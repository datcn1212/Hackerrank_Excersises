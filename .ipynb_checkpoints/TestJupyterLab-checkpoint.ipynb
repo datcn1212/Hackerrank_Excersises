{
 "cells": [
  {
   "cell_type": "markdown",
   "id": "2134bc2c-139d-4e8c-b795-a75056b7b6bc",
   "metadata": {},
   "source": [
    "Chào các bạn đã ghé thăm tới file này.\n",
    "File này là một file ví dụ cho việc lần đầu tiên mình sử dụng JuoyterLab để viết bài có kết hợp cả text và code python. Sau đây là một ví dụ đơn giản mình viết bằng ngôn ngữ python:"
   ]
  },
  {
   "cell_type": "code",
   "execution_count": 1,
   "id": "c2c28a9a-c5cb-48b6-a3f9-047a3ba25240",
   "metadata": {},
   "outputs": [
    {
     "name": "stdout",
     "output_type": "stream",
     "text": [
      "Xin chào các bạn!\n"
     ]
    }
   ],
   "source": [
    "def prt(a):\n",
    "    print(a)\n",
    "prt(\"Xin chào các bạn!\")"
   ]
  },
  {
   "cell_type": "markdown",
   "id": "c375405a-f389-47a0-a686-aa82a7512d0b",
   "metadata": {},
   "source": [
    "OK! có lẽ minh họa đến đây là đủ rồi :v chúc các bạn một ngày tốt lành!"
   ]
  }
 ],
 "metadata": {
  "kernelspec": {
   "display_name": "Python 3 (ipykernel)",
   "language": "python",
   "name": "python3"
  },
  "language_info": {
   "codemirror_mode": {
    "name": "ipython",
    "version": 3
   },
   "file_extension": ".py",
   "mimetype": "text/x-python",
   "name": "python",
   "nbconvert_exporter": "python",
   "pygments_lexer": "ipython3",
   "version": "3.9.0"
  }
 },
 "nbformat": 4,
 "nbformat_minor": 5
}
